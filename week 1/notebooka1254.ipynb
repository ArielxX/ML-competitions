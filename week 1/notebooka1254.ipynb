{
 "cells": [
  {
   "cell_type": "code",
   "execution_count": 1,
   "id": "65bc4af5",
   "metadata": {
    "_cell_guid": "b1076dfc-b9ad-4769-8c92-a6c4dae69d19",
    "_uuid": "8f2839f25d086af736a60e9eeb907d3b93b6e0e5",
    "papermill": {
     "duration": 0.032589,
     "end_time": "2023-08-02T09:47:06.756404",
     "exception": false,
     "start_time": "2023-08-02T09:47:06.723815",
     "status": "completed"
    },
    "tags": []
   },
   "outputs": [
    {
     "name": "stdout",
     "output_type": "stream",
     "text": [
      "data/test.csv\n",
      "data/sample_submission.csv\n",
      "data/greeks.csv\n",
      "data/train.csv\n"
     ]
    }
   ],
   "source": [
    "# This Python 3 environment comes with many helpful analytics libraries installed\n",
    "# It is defined by the kaggle/python Docker image: https://github.com/kaggle/docker-python\n",
    "# For example, here's several helpful packages to load\n",
    "\n",
    "import numpy as np # linear algebra\n",
    "import pandas as pd # data processing, CSV file I/O (e.g. pd.read_csv)\n",
    "\n",
    "# Input data files are available in the read-only \"../input/\" directory\n",
    "# For example, running this (by clicking run or pressing Shift+Enter) will list all files under the input directory\n",
    "\n",
    "import os\n",
    "for dirname, _, filenames in os.walk('data'):\n",
    "    for filename in filenames:\n",
    "        print(os.path.join(dirname, filename))\n",
    "\n",
    "# You can write up to 20GB to the current directory (/kaggle/working/) that gets preserved as output when you create a version using \"Save & Run All\" \n",
    "# You can also write temporary files to /kaggle/temp/, but they won't be saved outside of the current session"
   ]
  },
  {
   "cell_type": "code",
   "execution_count": 2,
   "id": "7686e2f3",
   "metadata": {
    "papermill": {
     "duration": 2.282993,
     "end_time": "2023-08-02T09:47:09.048841",
     "exception": false,
     "start_time": "2023-08-02T09:47:06.765848",
     "status": "completed"
    },
    "tags": []
   },
   "outputs": [],
   "source": [
    "import pandas as pd\n",
    "from sklearn.model_selection import train_test_split\n",
    "from sklearn.metrics import accuracy_score, precision_score\n",
    "from sklearn import metrics\n",
    "from sklearn.linear_model import LogisticRegression\n",
    "from sklearn.tree import DecisionTreeClassifier\n",
    "from sklearn.neighbors import KNeighborsClassifier\n",
    "from sklearn.cluster import KMeans\n",
    "from sklearn.metrics import confusion_matrix\n",
    "import sklearn.metrics.cluster as smc\n",
    "from sklearn.model_selection import KFold\n",
    "from sklearn.preprocessing import LabelEncoder\n",
    "from imblearn.over_sampling import RandomOverSampler\n",
    "from sklearn.preprocessing import MinMaxScaler\n",
    "from sklearn.feature_selection import SelectKBest, f_classif\n",
    "from sklearn.ensemble import RandomForestClassifier\n",
    "from xgboost import XGBClassifier\n",
    "from sklearn.metrics import classification_report,ConfusionMatrixDisplay\n",
    "from sklearn.linear_model import LinearRegression\n",
    "from sklearn.metrics import log_loss\n",
    "from sklearn.model_selection import cross_val_score"
   ]
  },
  {
   "cell_type": "code",
   "execution_count": 3,
   "id": "b472a076",
   "metadata": {
    "papermill": {
     "duration": 0.09734,
     "end_time": "2023-08-02T09:47:09.155361",
     "exception": false,
     "start_time": "2023-08-02T09:47:09.058021",
     "status": "completed"
    },
    "tags": []
   },
   "outputs": [
    {
     "data": {
      "text/html": [
       "<div>\n",
       "<style scoped>\n",
       "    .dataframe tbody tr th:only-of-type {\n",
       "        vertical-align: middle;\n",
       "    }\n",
       "\n",
       "    .dataframe tbody tr th {\n",
       "        vertical-align: top;\n",
       "    }\n",
       "\n",
       "    .dataframe thead th {\n",
       "        text-align: right;\n",
       "    }\n",
       "</style>\n",
       "<table border=\"1\" class=\"dataframe\">\n",
       "  <thead>\n",
       "    <tr style=\"text-align: right;\">\n",
       "      <th></th>\n",
       "      <th>Id</th>\n",
       "      <th>AB</th>\n",
       "      <th>AF</th>\n",
       "      <th>AH</th>\n",
       "      <th>AM</th>\n",
       "      <th>AR</th>\n",
       "      <th>AX</th>\n",
       "      <th>AY</th>\n",
       "      <th>AZ</th>\n",
       "      <th>BC</th>\n",
       "      <th>...</th>\n",
       "      <th>FL</th>\n",
       "      <th>FR</th>\n",
       "      <th>FS</th>\n",
       "      <th>GB</th>\n",
       "      <th>GE</th>\n",
       "      <th>GF</th>\n",
       "      <th>GH</th>\n",
       "      <th>GI</th>\n",
       "      <th>GL</th>\n",
       "      <th>Class</th>\n",
       "    </tr>\n",
       "  </thead>\n",
       "  <tbody>\n",
       "    <tr>\n",
       "      <th>0</th>\n",
       "      <td>000ff2bfdfe9</td>\n",
       "      <td>0.209377</td>\n",
       "      <td>3109.03329</td>\n",
       "      <td>85.200147</td>\n",
       "      <td>22.394407</td>\n",
       "      <td>8.138688</td>\n",
       "      <td>0.699861</td>\n",
       "      <td>0.025578</td>\n",
       "      <td>9.812214</td>\n",
       "      <td>5.555634</td>\n",
       "      <td>...</td>\n",
       "      <td>7.298162</td>\n",
       "      <td>1.73855</td>\n",
       "      <td>0.094822</td>\n",
       "      <td>11.339138</td>\n",
       "      <td>72.611063</td>\n",
       "      <td>2003.810319</td>\n",
       "      <td>22.136229</td>\n",
       "      <td>69.834944</td>\n",
       "      <td>0.120343</td>\n",
       "      <td>1</td>\n",
       "    </tr>\n",
       "    <tr>\n",
       "      <th>1</th>\n",
       "      <td>007255e47698</td>\n",
       "      <td>0.145282</td>\n",
       "      <td>978.76416</td>\n",
       "      <td>85.200147</td>\n",
       "      <td>36.968889</td>\n",
       "      <td>8.138688</td>\n",
       "      <td>3.632190</td>\n",
       "      <td>0.025578</td>\n",
       "      <td>13.517790</td>\n",
       "      <td>1.229900</td>\n",
       "      <td>...</td>\n",
       "      <td>0.173229</td>\n",
       "      <td>0.49706</td>\n",
       "      <td>0.568932</td>\n",
       "      <td>9.292698</td>\n",
       "      <td>72.611063</td>\n",
       "      <td>27981.562750</td>\n",
       "      <td>29.135430</td>\n",
       "      <td>32.131996</td>\n",
       "      <td>21.978000</td>\n",
       "      <td>0</td>\n",
       "    </tr>\n",
       "    <tr>\n",
       "      <th>2</th>\n",
       "      <td>013f2bd269f5</td>\n",
       "      <td>0.470030</td>\n",
       "      <td>2635.10654</td>\n",
       "      <td>85.200147</td>\n",
       "      <td>32.360553</td>\n",
       "      <td>8.138688</td>\n",
       "      <td>6.732840</td>\n",
       "      <td>0.025578</td>\n",
       "      <td>12.824570</td>\n",
       "      <td>1.229900</td>\n",
       "      <td>...</td>\n",
       "      <td>7.709560</td>\n",
       "      <td>0.97556</td>\n",
       "      <td>1.198821</td>\n",
       "      <td>37.077772</td>\n",
       "      <td>88.609437</td>\n",
       "      <td>13676.957810</td>\n",
       "      <td>28.022851</td>\n",
       "      <td>35.192676</td>\n",
       "      <td>0.196941</td>\n",
       "      <td>0</td>\n",
       "    </tr>\n",
       "    <tr>\n",
       "      <th>3</th>\n",
       "      <td>043ac50845d5</td>\n",
       "      <td>0.252107</td>\n",
       "      <td>3819.65177</td>\n",
       "      <td>120.201618</td>\n",
       "      <td>77.112203</td>\n",
       "      <td>8.138688</td>\n",
       "      <td>3.685344</td>\n",
       "      <td>0.025578</td>\n",
       "      <td>11.053708</td>\n",
       "      <td>1.229900</td>\n",
       "      <td>...</td>\n",
       "      <td>6.122162</td>\n",
       "      <td>0.49706</td>\n",
       "      <td>0.284466</td>\n",
       "      <td>18.529584</td>\n",
       "      <td>82.416803</td>\n",
       "      <td>2094.262452</td>\n",
       "      <td>39.948656</td>\n",
       "      <td>90.493248</td>\n",
       "      <td>0.155829</td>\n",
       "      <td>0</td>\n",
       "    </tr>\n",
       "    <tr>\n",
       "      <th>4</th>\n",
       "      <td>044fb8a146ec</td>\n",
       "      <td>0.380297</td>\n",
       "      <td>3733.04844</td>\n",
       "      <td>85.200147</td>\n",
       "      <td>14.103738</td>\n",
       "      <td>8.138688</td>\n",
       "      <td>3.942255</td>\n",
       "      <td>0.054810</td>\n",
       "      <td>3.396778</td>\n",
       "      <td>102.151980</td>\n",
       "      <td>...</td>\n",
       "      <td>8.153058</td>\n",
       "      <td>48.50134</td>\n",
       "      <td>0.121914</td>\n",
       "      <td>16.408728</td>\n",
       "      <td>146.109943</td>\n",
       "      <td>8524.370502</td>\n",
       "      <td>45.381316</td>\n",
       "      <td>36.262628</td>\n",
       "      <td>0.096614</td>\n",
       "      <td>1</td>\n",
       "    </tr>\n",
       "    <tr>\n",
       "      <th>...</th>\n",
       "      <td>...</td>\n",
       "      <td>...</td>\n",
       "      <td>...</td>\n",
       "      <td>...</td>\n",
       "      <td>...</td>\n",
       "      <td>...</td>\n",
       "      <td>...</td>\n",
       "      <td>...</td>\n",
       "      <td>...</td>\n",
       "      <td>...</td>\n",
       "      <td>...</td>\n",
       "      <td>...</td>\n",
       "      <td>...</td>\n",
       "      <td>...</td>\n",
       "      <td>...</td>\n",
       "      <td>...</td>\n",
       "      <td>...</td>\n",
       "      <td>...</td>\n",
       "      <td>...</td>\n",
       "      <td>...</td>\n",
       "      <td>...</td>\n",
       "    </tr>\n",
       "    <tr>\n",
       "      <th>612</th>\n",
       "      <td>fd3dafe738fd</td>\n",
       "      <td>0.149555</td>\n",
       "      <td>3130.05946</td>\n",
       "      <td>123.763599</td>\n",
       "      <td>9.513984</td>\n",
       "      <td>13.020852</td>\n",
       "      <td>3.499305</td>\n",
       "      <td>0.077343</td>\n",
       "      <td>8.545512</td>\n",
       "      <td>2.804172</td>\n",
       "      <td>...</td>\n",
       "      <td>0.173229</td>\n",
       "      <td>1.26092</td>\n",
       "      <td>0.067730</td>\n",
       "      <td>8.967128</td>\n",
       "      <td>217.148554</td>\n",
       "      <td>8095.932828</td>\n",
       "      <td>24.640462</td>\n",
       "      <td>69.191944</td>\n",
       "      <td>21.978000</td>\n",
       "      <td>0</td>\n",
       "    </tr>\n",
       "    <tr>\n",
       "      <th>613</th>\n",
       "      <td>fd895603f071</td>\n",
       "      <td>0.435846</td>\n",
       "      <td>5462.03438</td>\n",
       "      <td>85.200147</td>\n",
       "      <td>46.551007</td>\n",
       "      <td>15.973224</td>\n",
       "      <td>5.979825</td>\n",
       "      <td>0.025882</td>\n",
       "      <td>12.622906</td>\n",
       "      <td>3.777550</td>\n",
       "      <td>...</td>\n",
       "      <td>10.223150</td>\n",
       "      <td>1.24236</td>\n",
       "      <td>0.426699</td>\n",
       "      <td>35.896418</td>\n",
       "      <td>496.994214</td>\n",
       "      <td>3085.308063</td>\n",
       "      <td>29.648928</td>\n",
       "      <td>124.808872</td>\n",
       "      <td>0.145340</td>\n",
       "      <td>0</td>\n",
       "    </tr>\n",
       "    <tr>\n",
       "      <th>614</th>\n",
       "      <td>fd8ef6377f76</td>\n",
       "      <td>0.427300</td>\n",
       "      <td>2459.10720</td>\n",
       "      <td>130.138587</td>\n",
       "      <td>55.355778</td>\n",
       "      <td>10.005552</td>\n",
       "      <td>8.070549</td>\n",
       "      <td>0.025578</td>\n",
       "      <td>15.408390</td>\n",
       "      <td>1.229900</td>\n",
       "      <td>...</td>\n",
       "      <td>0.173229</td>\n",
       "      <td>0.49706</td>\n",
       "      <td>0.067730</td>\n",
       "      <td>19.962092</td>\n",
       "      <td>128.896894</td>\n",
       "      <td>6474.652866</td>\n",
       "      <td>26.166072</td>\n",
       "      <td>119.559420</td>\n",
       "      <td>21.978000</td>\n",
       "      <td>0</td>\n",
       "    </tr>\n",
       "    <tr>\n",
       "      <th>615</th>\n",
       "      <td>fe1942975e40</td>\n",
       "      <td>0.363205</td>\n",
       "      <td>1263.53524</td>\n",
       "      <td>85.200147</td>\n",
       "      <td>23.685856</td>\n",
       "      <td>8.138688</td>\n",
       "      <td>7.981959</td>\n",
       "      <td>0.025578</td>\n",
       "      <td>7.524588</td>\n",
       "      <td>1.229900</td>\n",
       "      <td>...</td>\n",
       "      <td>9.256996</td>\n",
       "      <td>0.78764</td>\n",
       "      <td>0.670527</td>\n",
       "      <td>24.594488</td>\n",
       "      <td>72.611063</td>\n",
       "      <td>1965.343176</td>\n",
       "      <td>25.116750</td>\n",
       "      <td>37.155112</td>\n",
       "      <td>0.184622</td>\n",
       "      <td>0</td>\n",
       "    </tr>\n",
       "    <tr>\n",
       "      <th>616</th>\n",
       "      <td>ffcca4ded3bb</td>\n",
       "      <td>0.482849</td>\n",
       "      <td>2672.53426</td>\n",
       "      <td>546.663930</td>\n",
       "      <td>112.006102</td>\n",
       "      <td>8.138688</td>\n",
       "      <td>3.198099</td>\n",
       "      <td>0.116928</td>\n",
       "      <td>3.396778</td>\n",
       "      <td>7.948668</td>\n",
       "      <td>...</td>\n",
       "      <td>0.173229</td>\n",
       "      <td>1.14492</td>\n",
       "      <td>0.149006</td>\n",
       "      <td>13.673940</td>\n",
       "      <td>72.611063</td>\n",
       "      <td>6850.484442</td>\n",
       "      <td>45.745974</td>\n",
       "      <td>114.842372</td>\n",
       "      <td>21.978000</td>\n",
       "      <td>0</td>\n",
       "    </tr>\n",
       "  </tbody>\n",
       "</table>\n",
       "<p>617 rows × 58 columns</p>\n",
       "</div>"
      ],
      "text/plain": [
       "               Id        AB          AF          AH          AM         AR  \\\n",
       "0    000ff2bfdfe9  0.209377  3109.03329   85.200147   22.394407   8.138688   \n",
       "1    007255e47698  0.145282   978.76416   85.200147   36.968889   8.138688   \n",
       "2    013f2bd269f5  0.470030  2635.10654   85.200147   32.360553   8.138688   \n",
       "3    043ac50845d5  0.252107  3819.65177  120.201618   77.112203   8.138688   \n",
       "4    044fb8a146ec  0.380297  3733.04844   85.200147   14.103738   8.138688   \n",
       "..            ...       ...         ...         ...         ...        ...   \n",
       "612  fd3dafe738fd  0.149555  3130.05946  123.763599    9.513984  13.020852   \n",
       "613  fd895603f071  0.435846  5462.03438   85.200147   46.551007  15.973224   \n",
       "614  fd8ef6377f76  0.427300  2459.10720  130.138587   55.355778  10.005552   \n",
       "615  fe1942975e40  0.363205  1263.53524   85.200147   23.685856   8.138688   \n",
       "616  ffcca4ded3bb  0.482849  2672.53426  546.663930  112.006102   8.138688   \n",
       "\n",
       "           AX        AY         AZ          BC  ...         FL        FR  \\\n",
       "0    0.699861  0.025578   9.812214    5.555634  ...   7.298162   1.73855   \n",
       "1    3.632190  0.025578  13.517790    1.229900  ...   0.173229   0.49706   \n",
       "2    6.732840  0.025578  12.824570    1.229900  ...   7.709560   0.97556   \n",
       "3    3.685344  0.025578  11.053708    1.229900  ...   6.122162   0.49706   \n",
       "4    3.942255  0.054810   3.396778  102.151980  ...   8.153058  48.50134   \n",
       "..        ...       ...        ...         ...  ...        ...       ...   \n",
       "612  3.499305  0.077343   8.545512    2.804172  ...   0.173229   1.26092   \n",
       "613  5.979825  0.025882  12.622906    3.777550  ...  10.223150   1.24236   \n",
       "614  8.070549  0.025578  15.408390    1.229900  ...   0.173229   0.49706   \n",
       "615  7.981959  0.025578   7.524588    1.229900  ...   9.256996   0.78764   \n",
       "616  3.198099  0.116928   3.396778    7.948668  ...   0.173229   1.14492   \n",
       "\n",
       "           FS         GB          GE            GF         GH          GI  \\\n",
       "0    0.094822  11.339138   72.611063   2003.810319  22.136229   69.834944   \n",
       "1    0.568932   9.292698   72.611063  27981.562750  29.135430   32.131996   \n",
       "2    1.198821  37.077772   88.609437  13676.957810  28.022851   35.192676   \n",
       "3    0.284466  18.529584   82.416803   2094.262452  39.948656   90.493248   \n",
       "4    0.121914  16.408728  146.109943   8524.370502  45.381316   36.262628   \n",
       "..        ...        ...         ...           ...        ...         ...   \n",
       "612  0.067730   8.967128  217.148554   8095.932828  24.640462   69.191944   \n",
       "613  0.426699  35.896418  496.994214   3085.308063  29.648928  124.808872   \n",
       "614  0.067730  19.962092  128.896894   6474.652866  26.166072  119.559420   \n",
       "615  0.670527  24.594488   72.611063   1965.343176  25.116750   37.155112   \n",
       "616  0.149006  13.673940   72.611063   6850.484442  45.745974  114.842372   \n",
       "\n",
       "            GL  Class  \n",
       "0     0.120343      1  \n",
       "1    21.978000      0  \n",
       "2     0.196941      0  \n",
       "3     0.155829      0  \n",
       "4     0.096614      1  \n",
       "..         ...    ...  \n",
       "612  21.978000      0  \n",
       "613   0.145340      0  \n",
       "614  21.978000      0  \n",
       "615   0.184622      0  \n",
       "616  21.978000      0  \n",
       "\n",
       "[617 rows x 58 columns]"
      ]
     },
     "execution_count": 3,
     "metadata": {},
     "output_type": "execute_result"
    }
   ],
   "source": [
    "df = pd.read_csv(\"data/train.csv\")\n",
    "df"
   ]
  },
  {
   "cell_type": "code",
   "execution_count": 4,
   "id": "64cdf6d5",
   "metadata": {
    "papermill": {
     "duration": 0.042252,
     "end_time": "2023-08-02T09:47:09.207258",
     "exception": false,
     "start_time": "2023-08-02T09:47:09.165006",
     "status": "completed"
    },
    "tags": []
   },
   "outputs": [
    {
     "name": "stdout",
     "output_type": "stream",
     "text": [
      "<class 'pandas.core.frame.DataFrame'>\n",
      "RangeIndex: 617 entries, 0 to 616\n",
      "Data columns (total 58 columns):\n",
      " #   Column  Non-Null Count  Dtype  \n",
      "---  ------  --------------  -----  \n",
      " 0   Id      617 non-null    object \n",
      " 1   AB      617 non-null    float64\n",
      " 2   AF      617 non-null    float64\n",
      " 3   AH      617 non-null    float64\n",
      " 4   AM      617 non-null    float64\n",
      " 5   AR      617 non-null    float64\n",
      " 6   AX      617 non-null    float64\n",
      " 7   AY      617 non-null    float64\n",
      " 8   AZ      617 non-null    float64\n",
      " 9   BC      617 non-null    float64\n",
      " 10  BD      617 non-null    float64\n",
      " 11  BN      617 non-null    float64\n",
      " 12  BP      617 non-null    float64\n",
      " 13  BQ      557 non-null    float64\n",
      " 14  BR      617 non-null    float64\n",
      " 15  BZ      617 non-null    float64\n",
      " 16  CB      615 non-null    float64\n",
      " 17  CC      614 non-null    float64\n",
      " 18  CD      617 non-null    float64\n",
      " 19  CF      617 non-null    float64\n",
      " 20  CH      617 non-null    float64\n",
      " 21  CL      617 non-null    float64\n",
      " 22  CR      617 non-null    float64\n",
      " 23  CS      617 non-null    float64\n",
      " 24  CU      617 non-null    float64\n",
      " 25  CW      617 non-null    float64\n",
      " 26  DA      617 non-null    float64\n",
      " 27  DE      617 non-null    float64\n",
      " 28  DF      617 non-null    float64\n",
      " 29  DH      617 non-null    float64\n",
      " 30  DI      617 non-null    float64\n",
      " 31  DL      617 non-null    float64\n",
      " 32  DN      617 non-null    float64\n",
      " 33  DU      616 non-null    float64\n",
      " 34  DV      617 non-null    float64\n",
      " 35  DY      617 non-null    float64\n",
      " 36  EB      617 non-null    float64\n",
      " 37  EE      617 non-null    float64\n",
      " 38  EG      617 non-null    float64\n",
      " 39  EH      617 non-null    float64\n",
      " 40  EJ      617 non-null    object \n",
      " 41  EL      557 non-null    float64\n",
      " 42  EP      617 non-null    float64\n",
      " 43  EU      617 non-null    float64\n",
      " 44  FC      616 non-null    float64\n",
      " 45  FD      617 non-null    float64\n",
      " 46  FE      617 non-null    float64\n",
      " 47  FI      617 non-null    float64\n",
      " 48  FL      616 non-null    float64\n",
      " 49  FR      617 non-null    float64\n",
      " 50  FS      615 non-null    float64\n",
      " 51  GB      617 non-null    float64\n",
      " 52  GE      617 non-null    float64\n",
      " 53  GF      617 non-null    float64\n",
      " 54  GH      617 non-null    float64\n",
      " 55  GI      617 non-null    float64\n",
      " 56  GL      616 non-null    float64\n",
      " 57  Class   617 non-null    int64  \n",
      "dtypes: float64(55), int64(1), object(2)\n",
      "memory usage: 279.7+ KB\n"
     ]
    }
   ],
   "source": [
    "df.info()"
   ]
  },
  {
   "cell_type": "code",
   "execution_count": 5,
   "id": "ce5c198e",
   "metadata": {
    "papermill": {
     "duration": 0.021773,
     "end_time": "2023-08-02T09:47:09.240557",
     "exception": false,
     "start_time": "2023-08-02T09:47:09.218784",
     "status": "completed"
    },
    "tags": []
   },
   "outputs": [
    {
     "data": {
      "text/plain": [
       "EJ\n",
       "B    395\n",
       "A    222\n",
       "Name: count, dtype: int64"
      ]
     },
     "execution_count": 5,
     "metadata": {},
     "output_type": "execute_result"
    }
   ],
   "source": [
    "df['EJ'].value_counts()"
   ]
  },
  {
   "cell_type": "code",
   "execution_count": 6,
   "id": "c4d78e40",
   "metadata": {
    "papermill": {
     "duration": 0.020321,
     "end_time": "2023-08-02T09:47:09.271049",
     "exception": false,
     "start_time": "2023-08-02T09:47:09.250728",
     "status": "completed"
    },
    "tags": []
   },
   "outputs": [],
   "source": [
    "df.EJ = df.EJ.map({'A' : 0, 'B' : 1})"
   ]
  },
  {
   "cell_type": "code",
   "execution_count": 7,
   "id": "588016d6",
   "metadata": {
    "papermill": {
     "duration": 0.024838,
     "end_time": "2023-08-02T09:47:09.305905",
     "exception": false,
     "start_time": "2023-08-02T09:47:09.281067",
     "status": "completed"
    },
    "tags": []
   },
   "outputs": [
    {
     "data": {
      "text/plain": [
       "Id        0\n",
       "AB        0\n",
       "AF        0\n",
       "AH        0\n",
       "AM        0\n",
       "AR        0\n",
       "AX        0\n",
       "AY        0\n",
       "AZ        0\n",
       "BC        0\n",
       "BD        0\n",
       "BN        0\n",
       "BP        0\n",
       "BQ       60\n",
       "BR        0\n",
       "BZ        0\n",
       "CB        2\n",
       "CC        3\n",
       "CD        0\n",
       "CF        0\n",
       "CH        0\n",
       "CL        0\n",
       "CR        0\n",
       "CS        0\n",
       "CU        0\n",
       "CW        0\n",
       "DA        0\n",
       "DE        0\n",
       "DF        0\n",
       "DH        0\n",
       "DI        0\n",
       "DL        0\n",
       "DN        0\n",
       "DU        1\n",
       "DV        0\n",
       "DY        0\n",
       "EB        0\n",
       "EE        0\n",
       "EG        0\n",
       "EH        0\n",
       "EJ        0\n",
       "EL       60\n",
       "EP        0\n",
       "EU        0\n",
       "FC        1\n",
       "FD        0\n",
       "FE        0\n",
       "FI        0\n",
       "FL        1\n",
       "FR        0\n",
       "FS        2\n",
       "GB        0\n",
       "GE        0\n",
       "GF        0\n",
       "GH        0\n",
       "GI        0\n",
       "GL        1\n",
       "Class     0\n",
       "dtype: int64"
      ]
     },
     "execution_count": 7,
     "metadata": {},
     "output_type": "execute_result"
    }
   ],
   "source": [
    "df.isna().sum()"
   ]
  },
  {
   "cell_type": "code",
   "execution_count": 8,
   "id": "3da18465",
   "metadata": {
    "papermill": {
     "duration": 0.049927,
     "end_time": "2023-08-02T09:47:09.366012",
     "exception": false,
     "start_time": "2023-08-02T09:47:09.316085",
     "status": "completed"
    },
    "tags": []
   },
   "outputs": [],
   "source": [
    "from sklearn.impute import SimpleImputer\n",
    "\n",
    "df.BQ = df.BQ.fillna(0)\n",
    "df.EL = df.EL.fillna(0)\n",
    "\n",
    "df_num = df.drop(columns=['Id', 'EJ'])\n",
    "\n",
    "imputer = SimpleImputer(strategy='median').fit(df_num)\n",
    "df_num = pd.DataFrame(imputer.transform(df_num),columns=df_num.columns, index=df_num.index)\n",
    "df = pd.concat([df[['Id','EJ']], df_num], axis=1)"
   ]
  },
  {
   "cell_type": "code",
   "execution_count": 9,
   "id": "915f3925",
   "metadata": {
    "papermill": {
     "duration": 0.024431,
     "end_time": "2023-08-02T09:47:09.400651",
     "exception": false,
     "start_time": "2023-08-02T09:47:09.376220",
     "status": "completed"
    },
    "tags": []
   },
   "outputs": [
    {
     "data": {
      "text/plain": [
       "0"
      ]
     },
     "execution_count": 9,
     "metadata": {},
     "output_type": "execute_result"
    }
   ],
   "source": [
    "df.isna().sum().sum()"
   ]
  },
  {
   "cell_type": "code",
   "execution_count": 10,
   "id": "0cf07b4b",
   "metadata": {
    "papermill": {
     "duration": 0.022051,
     "end_time": "2023-08-02T09:47:09.433027",
     "exception": false,
     "start_time": "2023-08-02T09:47:09.410976",
     "status": "completed"
    },
    "tags": []
   },
   "outputs": [],
   "source": [
    "#  Put everything in a function\n",
    "def preprocess(df):\n",
    "    df.EJ = df.EJ.map({'A' : 0, 'B' : 1})\n",
    "    \n",
    "    from sklearn.impute import SimpleImputer\n",
    "\n",
    "    df.BQ = df.BQ.fillna(0)\n",
    "    df.EL = df.EL.fillna(0)\n",
    "\n",
    "    df_num = df.drop(columns=['Id', 'EJ'])\n",
    "\n",
    "    imputer = SimpleImputer(strategy='median').fit(df_num)\n",
    "    df_num = pd.DataFrame(imputer.transform(df_num),columns=df_num.columns, index=df_num.index)\n",
    "    df = pd.concat([df[['Id','EJ']], df_num], axis=1)\n",
    "    \n",
    "    return df"
   ]
  },
  {
   "cell_type": "code",
   "execution_count": 11,
   "id": "0b334b49",
   "metadata": {
    "papermill": {
     "duration": 0.023522,
     "end_time": "2023-08-02T09:47:09.466724",
     "exception": false,
     "start_time": "2023-08-02T09:47:09.443202",
     "status": "completed"
    },
    "tags": []
   },
   "outputs": [
    {
     "data": {
      "text/plain": [
       "Class\n",
       "0.0    509\n",
       "1.0    108\n",
       "Name: count, dtype: int64"
      ]
     },
     "execution_count": 11,
     "metadata": {},
     "output_type": "execute_result"
    }
   ],
   "source": [
    "df['Class'].value_counts()"
   ]
  },
  {
   "cell_type": "code",
   "execution_count": 12,
   "id": "e09fea7f-02d9-4a18-9dcb-dc1411a30345",
   "metadata": {},
   "outputs": [],
   "source": [
    "original = df"
   ]
  },
  {
   "cell_type": "code",
   "execution_count": 13,
   "id": "5ecd7651-d8b1-4bb7-9d38-e77a57e0a77d",
   "metadata": {},
   "outputs": [
    {
     "data": {
      "text/plain": [
       "Class\n",
       "0.0    240\n",
       "1.0    108\n",
       "Name: count, dtype: int64"
      ]
     },
     "execution_count": 13,
     "metadata": {},
     "output_type": "execute_result"
    }
   ],
   "source": [
    "# Define a function to remove outliers based on the median and IQR\n",
    "def remove_outliers(df, col_name, threshold=1.5):\n",
    "    q1 = df[col_name].quantile(0.25)\n",
    "    q3 = df[col_name].quantile(0.75)\n",
    "    iqr = q3 - q1\n",
    "    lower_bound = q1 - threshold * iqr\n",
    "    upper_bound = q3 + threshold * iqr\n",
    "    return df[((df[col_name] >= lower_bound) & (df[col_name] <= upper_bound) & (df['Class'] == 0)) | (df['Class'] >= 1)]\n",
    "\n",
    "# Specify the column(s) for which you want to remove outliers\n",
    "# columns_to_remove_outliers = [\"AB\", \"DI\", \"DL\", \"AH\", \"AM\", \"AX\", \"DY\", \"EE\", \"AZ\", \"EG\", \"CB\", \"FC\", \"CC\", \"FE\", \"CH\", \"CL\", \"CR\", \"CS\", \"CU\", \"GE\", \"GF\", \"DA\"]\n",
    "columns_to_remove_outliers = [\"DU\", \"AY\", \"EB\", \"BC\", \"EH\", \"BP\", \"BR\", \"EP\", \"EU\", \"FI\", \"CF\", \"FL\", \"GB\"]\n",
    "\n",
    "df = original\n",
    "# Remove outliers for each specified column\n",
    "for col in columns_to_remove_outliers:\n",
    "    df = remove_outliers(df, col)\n",
    "\n",
    "df['Class'].value_counts()"
   ]
  },
  {
   "cell_type": "code",
   "execution_count": 14,
   "id": "da4554de",
   "metadata": {
    "papermill": {
     "duration": 0.108732,
     "end_time": "2023-08-02T09:47:09.585932",
     "exception": false,
     "start_time": "2023-08-02T09:47:09.477200",
     "status": "completed"
    },
    "tags": []
   },
   "outputs": [],
   "source": [
    "# Lets try to balance our data (oversampling)\n",
    "\n",
    "from imblearn.over_sampling import SMOTE\n",
    "\n",
    "X = df.drop(columns=['Class','Id'], axis=1)\n",
    "y = df['Class']\n",
    "\n",
    "smote = SMOTE(sampling_strategy='auto', random_state=42)\n",
    "X_resampled, y_resampled = smote.fit_resample(X, y)\n",
    "\n",
    "balanced_df = pd.DataFrame(X_resampled, columns=X.columns)\n",
    "balanced_df['Class'] = y_resampled\n",
    "balanced_df['Id'] = df['Id']\n",
    "df = balanced_df"
   ]
  },
  {
   "cell_type": "code",
   "execution_count": 15,
   "id": "29c074ce",
   "metadata": {
    "papermill": {
     "duration": 0.023422,
     "end_time": "2023-08-02T09:47:09.619824",
     "exception": false,
     "start_time": "2023-08-02T09:47:09.596402",
     "status": "completed"
    },
    "tags": []
   },
   "outputs": [
    {
     "data": {
      "text/plain": [
       "Class\n",
       "1.0    240\n",
       "0.0    240\n",
       "Name: count, dtype: int64"
      ]
     },
     "execution_count": 15,
     "metadata": {},
     "output_type": "execute_result"
    }
   ],
   "source": [
    "df['Class'].value_counts()"
   ]
  },
  {
   "cell_type": "code",
   "execution_count": 16,
   "id": "20ae0190",
   "metadata": {
    "papermill": {
     "duration": 13.671146,
     "end_time": "2023-08-02T09:47:23.301764",
     "exception": false,
     "start_time": "2023-08-02T09:47:09.630618",
     "status": "completed"
    },
    "tags": []
   },
   "outputs": [
    {
     "data": {
      "image/png": "[encoded data removed]",
      "text/plain": [
       "<Figure size 2000x2000 with 64 Axes>"
      ]
     },
     "metadata": {},
     "output_type": "display_data"
    }
   ],
   "source": [
    "from matplotlib import pyplot\n",
    "\n",
    "# getting an idea of the distribution of each factor\n",
    "df.hist(bins=50, figsize = [20,20])\n",
    "pyplot.show()"
   ]
  },
  {
   "cell_type": "code",
   "execution_count": 17,
   "id": "6446ff21",
   "metadata": {
    "papermill": {
     "duration": 0.025119,
     "end_time": "2023-08-02T09:47:23.341187",
     "exception": false,
     "start_time": "2023-08-02T09:47:23.316068",
     "status": "completed"
    },
    "tags": []
   },
   "outputs": [],
   "source": [
    "from sklearn.metrics import make_scorer, log_loss\n",
    "\n",
    "# Function that computes balanced log loss\n",
    "def custom_balanced_log_loss(y_true, y_prob):\n",
    "    # y_true: True target values\n",
    "    # y_prob: Predicted probabilities for the positive class (column 1)\n",
    "    \n",
    "    # Calculate the balanced log loss\n",
    "    return log_loss(y_true, y_prob, labels=[0, 1], eps=1e-15, sample_weight=None, normalize=True)"
   ]
  },
  {
   "cell_type": "code",
   "execution_count": 18,
   "id": "bab9b0ba",
   "metadata": {
    "papermill": {
     "duration": 0.026902,
     "end_time": "2023-08-02T09:47:23.381575",
     "exception": false,
     "start_time": "2023-08-02T09:47:23.354673",
     "status": "completed"
    },
    "tags": []
   },
   "outputs": [],
   "source": [
    "X = df.drop(columns=['Class','Id'], axis=1)\n",
    "y = df['Class']"
   ]
  },
  {
   "cell_type": "code",
   "execution_count": 19,
   "id": "4a9f42e8",
   "metadata": {
    "papermill": {
     "duration": 0.022874,
     "end_time": "2023-08-02T09:47:23.418760",
     "exception": false,
     "start_time": "2023-08-02T09:47:23.395886",
     "status": "completed"
    },
    "tags": []
   },
   "outputs": [],
   "source": [
    "# Initialize the KFold object\n",
    "kfold = KFold(n_splits=5, shuffle=True, random_state=42)"
   ]
  },
  {
   "cell_type": "code",
   "execution_count": 20,
   "id": "c637ae4e",
   "metadata": {
    "papermill": {
     "duration": 0.024416,
     "end_time": "2023-08-02T09:47:23.456454",
     "exception": false,
     "start_time": "2023-08-02T09:47:23.432038",
     "status": "completed"
    },
    "tags": []
   },
   "outputs": [],
   "source": [
    "def train_model(model, X, y, kfold):\n",
    "    # Create a scorer object using the custom scoring function\n",
    "    custom_scorer = make_scorer(custom_balanced_log_loss, needs_proba=True)\n",
    "\n",
    "    # Perform K-Fold cross-validation using the custom scoring function\n",
    "    results = cross_val_score(model, X, y, cv=kfold, scoring=custom_scorer)\n",
    "    \n",
    "    # Print the results (optional)\n",
    "    print(\"Custom Balanced Log Loss: %.2f\" % results.mean())\n",
    "    print(\"Standard Deviation: %.2f\" % results.std())\n",
    "    \n",
    "    model.fit(X, y)"
   ]
  },
  {
   "cell_type": "code",
   "execution_count": 21,
   "id": "a039db7e",
   "metadata": {
    "papermill": {
     "duration": 4.324085,
     "end_time": "2023-08-02T09:47:27.794697",
     "exception": false,
     "start_time": "2023-08-02T09:47:23.470612",
     "status": "completed"
    },
    "tags": []
   },
   "outputs": [
    {
     "name": "stderr",
     "output_type": "stream",
     "text": [
      "/DATA/work_space/hsMLCompetitions/venv/lib/python3.11/site-packages/sklearn/metrics/_classification.py:2845: FutureWarning: Setting the eps parameter is deprecated and will be removed in 1.5. Instead eps will always havea default value of `np.finfo(y_pred.dtype).eps`.\n",
      "  warnings.warn(\n",
      "/DATA/work_space/hsMLCompetitions/venv/lib/python3.11/site-packages/sklearn/metrics/_classification.py:2845: FutureWarning: Setting the eps parameter is deprecated and will be removed in 1.5. Instead eps will always havea default value of `np.finfo(y_pred.dtype).eps`.\n",
      "  warnings.warn(\n",
      "/DATA/work_space/hsMLCompetitions/venv/lib/python3.11/site-packages/sklearn/metrics/_classification.py:2845: FutureWarning: Setting the eps parameter is deprecated and will be removed in 1.5. Instead eps will always havea default value of `np.finfo(y_pred.dtype).eps`.\n",
      "  warnings.warn(\n",
      "/DATA/work_space/hsMLCompetitions/venv/lib/python3.11/site-packages/sklearn/metrics/_classification.py:2845: FutureWarning: Setting the eps parameter is deprecated and will be removed in 1.5. Instead eps will always havea default value of `np.finfo(y_pred.dtype).eps`.\n",
      "  warnings.warn(\n"
     ]
    },
    {
     "name": "stdout",
     "output_type": "stream",
     "text": [
      "Custom Balanced Log Loss: 0.25\n",
      "Standard Deviation: 0.08\n"
     ]
    },
    {
     "name": "stderr",
     "output_type": "stream",
     "text": [
      "/DATA/work_space/hsMLCompetitions/venv/lib/python3.11/site-packages/sklearn/metrics/_classification.py:2845: FutureWarning: Setting the eps parameter is deprecated and will be removed in 1.5. Instead eps will always havea default value of `np.finfo(y_pred.dtype).eps`.\n",
      "  warnings.warn(\n"
     ]
    }
   ],
   "source": [
    "# Logistic Regresion\n",
    "\n",
    "LR_model = LogisticRegression(C = 0.5, solver='liblinear', max_iter=10000)\n",
    "\n",
    "train_model(LR_model, X, y, kfold)"
   ]
  },
  {
   "cell_type": "code",
   "execution_count": 22,
   "id": "c912de45",
   "metadata": {
    "papermill": {
     "duration": 0.309323,
     "end_time": "2023-08-02T09:47:28.117891",
     "exception": false,
     "start_time": "2023-08-02T09:47:27.808568",
     "status": "completed"
    },
    "tags": []
   },
   "outputs": [
    {
     "name": "stderr",
     "output_type": "stream",
     "text": [
      "/DATA/work_space/hsMLCompetitions/venv/lib/python3.11/site-packages/sklearn/metrics/_classification.py:2845: FutureWarning: Setting the eps parameter is deprecated and will be removed in 1.5. Instead eps will always havea default value of `np.finfo(y_pred.dtype).eps`.\n",
      "  warnings.warn(\n",
      "/DATA/work_space/hsMLCompetitions/venv/lib/python3.11/site-packages/sklearn/metrics/_classification.py:2845: FutureWarning: Setting the eps parameter is deprecated and will be removed in 1.5. Instead eps will always havea default value of `np.finfo(y_pred.dtype).eps`.\n",
      "  warnings.warn(\n",
      "/DATA/work_space/hsMLCompetitions/venv/lib/python3.11/site-packages/sklearn/metrics/_classification.py:2845: FutureWarning: Setting the eps parameter is deprecated and will be removed in 1.5. Instead eps will always havea default value of `np.finfo(y_pred.dtype).eps`.\n",
      "  warnings.warn(\n",
      "/DATA/work_space/hsMLCompetitions/venv/lib/python3.11/site-packages/sklearn/metrics/_classification.py:2845: FutureWarning: Setting the eps parameter is deprecated and will be removed in 1.5. Instead eps will always havea default value of `np.finfo(y_pred.dtype).eps`.\n",
      "  warnings.warn(\n",
      "/DATA/work_space/hsMLCompetitions/venv/lib/python3.11/site-packages/sklearn/metrics/_classification.py:2845: FutureWarning: Setting the eps parameter is deprecated and will be removed in 1.5. Instead eps will always havea default value of `np.finfo(y_pred.dtype).eps`.\n",
      "  warnings.warn(\n"
     ]
    },
    {
     "name": "stdout",
     "output_type": "stream",
     "text": [
      "Custom Balanced Log Loss: 2.23\n",
      "Standard Deviation: 0.58\n"
     ]
    }
   ],
   "source": [
    "# Decision Tree\n",
    "\n",
    "DT_model = DecisionTreeClassifier()\n",
    "train_model(DT_model, X, y, kfold)"
   ]
  },
  {
   "cell_type": "code",
   "execution_count": 23,
   "id": "275c1d4e",
   "metadata": {
    "papermill": {
     "duration": 7.001473,
     "end_time": "2023-08-02T09:47:35.133353",
     "exception": false,
     "start_time": "2023-08-02T09:47:28.131880",
     "status": "completed"
    },
    "tags": []
   },
   "outputs": [
    {
     "name": "stderr",
     "output_type": "stream",
     "text": [
      "/DATA/work_space/hsMLCompetitions/venv/lib/python3.11/site-packages/sklearn/metrics/_classification.py:2845: FutureWarning: Setting the eps parameter is deprecated and will be removed in 1.5. Instead eps will always havea default value of `np.finfo(y_pred.dtype).eps`.\n",
      "  warnings.warn(\n",
      "/DATA/work_space/hsMLCompetitions/venv/lib/python3.11/site-packages/sklearn/metrics/_classification.py:2845: FutureWarning: Setting the eps parameter is deprecated and will be removed in 1.5. Instead eps will always havea default value of `np.finfo(y_pred.dtype).eps`.\n",
      "  warnings.warn(\n",
      "/DATA/work_space/hsMLCompetitions/venv/lib/python3.11/site-packages/sklearn/metrics/_classification.py:2845: FutureWarning: Setting the eps parameter is deprecated and will be removed in 1.5. Instead eps will always havea default value of `np.finfo(y_pred.dtype).eps`.\n",
      "  warnings.warn(\n",
      "/DATA/work_space/hsMLCompetitions/venv/lib/python3.11/site-packages/sklearn/metrics/_classification.py:2845: FutureWarning: Setting the eps parameter is deprecated and will be removed in 1.5. Instead eps will always havea default value of `np.finfo(y_pred.dtype).eps`.\n",
      "  warnings.warn(\n",
      "/DATA/work_space/hsMLCompetitions/venv/lib/python3.11/site-packages/sklearn/metrics/_classification.py:2845: FutureWarning: Setting the eps parameter is deprecated and will be removed in 1.5. Instead eps will always havea default value of `np.finfo(y_pred.dtype).eps`.\n",
      "  warnings.warn(\n"
     ]
    },
    {
     "name": "stdout",
     "output_type": "stream",
     "text": [
      "Custom Balanced Log Loss: 0.19\n",
      "Standard Deviation: 0.01\n"
     ]
    }
   ],
   "source": [
    "# Random Forest\n",
    "\n",
    "RF_model = RandomForestClassifier(criterion = 'entropy', max_depth = None, min_samples_leaf = 1, min_samples_split = 4,n_estimators = 200)\n",
    "train_model(RF_model, X, y, kfold)"
   ]
  },
  {
   "cell_type": "code",
   "execution_count": 24,
   "id": "b8d2018c",
   "metadata": {
    "papermill": {
     "duration": 1.535014,
     "end_time": "2023-08-02T09:47:36.682440",
     "exception": false,
     "start_time": "2023-08-02T09:47:35.147426",
     "status": "completed"
    },
    "tags": []
   },
   "outputs": [
    {
     "name": "stderr",
     "output_type": "stream",
     "text": [
      "/DATA/work_space/hsMLCompetitions/venv/lib/python3.11/site-packages/sklearn/metrics/_classification.py:2845: FutureWarning: Setting the eps parameter is deprecated and will be removed in 1.5. Instead eps will always havea default value of `np.finfo(y_pred.dtype).eps`.\n",
      "  warnings.warn(\n",
      "/DATA/work_space/hsMLCompetitions/venv/lib/python3.11/site-packages/sklearn/metrics/_classification.py:2845: FutureWarning: Setting the eps parameter is deprecated and will be removed in 1.5. Instead eps will always havea default value of `np.finfo(y_pred.dtype).eps`.\n",
      "  warnings.warn(\n",
      "/DATA/work_space/hsMLCompetitions/venv/lib/python3.11/site-packages/sklearn/metrics/_classification.py:2845: FutureWarning: Setting the eps parameter is deprecated and will be removed in 1.5. Instead eps will always havea default value of `np.finfo(y_pred.dtype).eps`.\n",
      "  warnings.warn(\n"
     ]
    },
    {
     "name": "stdout",
     "output_type": "stream",
     "text": [
      "Custom Balanced Log Loss: 0.10\n",
      "Standard Deviation: 0.04\n"
     ]
    },
    {
     "name": "stderr",
     "output_type": "stream",
     "text": [
      "/DATA/work_space/hsMLCompetitions/venv/lib/python3.11/site-packages/sklearn/metrics/_classification.py:2845: FutureWarning: Setting the eps parameter is deprecated and will be removed in 1.5. Instead eps will always havea default value of `np.finfo(y_pred.dtype).eps`.\n",
      "  warnings.warn(\n",
      "/DATA/work_space/hsMLCompetitions/venv/lib/python3.11/site-packages/sklearn/metrics/_classification.py:2845: FutureWarning: Setting the eps parameter is deprecated and will be removed in 1.5. Instead eps will always havea default value of `np.finfo(y_pred.dtype).eps`.\n",
      "  warnings.warn(\n"
     ]
    }
   ],
   "source": [
    "# Gradiant Boosting\n",
    "\n",
    "GB_model = XGBClassifier()\n",
    "train_model(GB_model, X, y, kfold)"
   ]
  },
  {
   "cell_type": "code",
   "execution_count": 25,
   "id": "573aa36b-fc81-430c-b4a3-716622a8a9b4",
   "metadata": {},
   "outputs": [],
   "source": [
    "from sklearn.ensemble import VotingClassifier"
   ]
  },
  {
   "cell_type": "code",
   "execution_count": 26,
   "id": "3914a464-1796-4408-8bef-36a358e91d62",
   "metadata": {},
   "outputs": [
    {
     "name": "stderr",
     "output_type": "stream",
     "text": [
      "/DATA/work_space/hsMLCompetitions/venv/lib/python3.11/site-packages/sklearn/metrics/_classification.py:2845: FutureWarning: Setting the eps parameter is deprecated and will be removed in 1.5. Instead eps will always havea default value of `np.finfo(y_pred.dtype).eps`.\n",
      "  warnings.warn(\n",
      "/DATA/work_space/hsMLCompetitions/venv/lib/python3.11/site-packages/sklearn/metrics/_classification.py:2845: FutureWarning: Setting the eps parameter is deprecated and will be removed in 1.5. Instead eps will always havea default value of `np.finfo(y_pred.dtype).eps`.\n",
      "  warnings.warn(\n",
      "/DATA/work_space/hsMLCompetitions/venv/lib/python3.11/site-packages/sklearn/metrics/_classification.py:2845: FutureWarning: Setting the eps parameter is deprecated and will be removed in 1.5. Instead eps will always havea default value of `np.finfo(y_pred.dtype).eps`.\n",
      "  warnings.warn(\n",
      "/DATA/work_space/hsMLCompetitions/venv/lib/python3.11/site-packages/sklearn/metrics/_classification.py:2845: FutureWarning: Setting the eps parameter is deprecated and will be removed in 1.5. Instead eps will always havea default value of `np.finfo(y_pred.dtype).eps`.\n",
      "  warnings.warn(\n",
      "/DATA/work_space/hsMLCompetitions/venv/lib/python3.11/site-packages/sklearn/metrics/_classification.py:2845: FutureWarning: Setting the eps parameter is deprecated and will be removed in 1.5. Instead eps will always havea default value of `np.finfo(y_pred.dtype).eps`.\n",
      "  warnings.warn(\n"
     ]
    },
    {
     "name": "stdout",
     "output_type": "stream",
     "text": [
      "Custom Balanced Log Loss: 0.13\n",
      "Standard Deviation: 0.02\n"
     ]
    }
   ],
   "source": [
    "# ensemble \n",
    "# this one its worse than gb but with less variance\n",
    "ensemble_classifier = VotingClassifier(\n",
    "    estimators=[\n",
    "        ('lr', LR_model), \n",
    "        ('dt', DT_model),\n",
    "        ('rf', RF_model),\n",
    "        ('gb', GB_model)],\n",
    "    voting='soft'  # Use 'hard' for majority voting or 'soft' for weighted voting\n",
    ")\n",
    "\n",
    "train_model(ensemble_classifier, X, y, kfold)"
   ]
  },
  {
   "cell_type": "code",
   "execution_count": 27,
   "id": "3c134997",
   "metadata": {
    "papermill": {
     "duration": 0.055723,
     "end_time": "2023-08-02T09:47:36.753431",
     "exception": false,
     "start_time": "2023-08-02T09:47:36.697708",
     "status": "completed"
    },
    "tags": []
   },
   "outputs": [
    {
     "data": {
      "text/plain": [
       "array([[0.81304238, 0.18695762],\n",
       "       [0.81304238, 0.18695762],\n",
       "       [0.81304238, 0.18695762],\n",
       "       [0.81304238, 0.18695762],\n",
       "       [0.81304238, 0.18695762]])"
      ]
     },
     "execution_count": 27,
     "metadata": {},
     "output_type": "execute_result"
    }
   ],
   "source": [
    "dataset_test = pd.read_csv(\"data/test.csv\")\n",
    "dataset_test = preprocess(dataset_test)\n",
    "X = dataset_test\n",
    "Y = X['Id']\n",
    "X = X.drop(\"Id\", axis=1)\n",
    "X.fillna(0, inplace=True)\n",
    "X.head()\n",
    "\n",
    "predicted_prob = ensemble_classifier.predict_proba(X)\n",
    "predicted_prob"
   ]
  },
  {
   "cell_type": "code",
   "execution_count": 28,
   "id": "bff599db",
   "metadata": {
    "papermill": {
     "duration": 0.03367,
     "end_time": "2023-08-02T09:47:36.802105",
     "exception": false,
     "start_time": "2023-08-02T09:47:36.768435",
     "status": "completed"
    },
    "tags": []
   },
   "outputs": [
    {
     "data": {
      "text/html": [
       "<div>\n",
       "<style scoped>\n",
       "    .dataframe tbody tr th:only-of-type {\n",
       "        vertical-align: middle;\n",
       "    }\n",
       "\n",
       "    .dataframe tbody tr th {\n",
       "        vertical-align: top;\n",
       "    }\n",
       "\n",
       "    .dataframe thead th {\n",
       "        text-align: right;\n",
       "    }\n",
       "</style>\n",
       "<table border=\"1\" class=\"dataframe\">\n",
       "  <thead>\n",
       "    <tr style=\"text-align: right;\">\n",
       "      <th></th>\n",
       "      <th>Id</th>\n",
       "      <th>class_0</th>\n",
       "      <th>class_1</th>\n",
       "    </tr>\n",
       "  </thead>\n",
       "  <tbody>\n",
       "    <tr>\n",
       "      <th>0</th>\n",
       "      <td>00eed32682bb</td>\n",
       "      <td>0.813042</td>\n",
       "      <td>0.186958</td>\n",
       "    </tr>\n",
       "    <tr>\n",
       "      <th>1</th>\n",
       "      <td>010ebe33f668</td>\n",
       "      <td>0.813042</td>\n",
       "      <td>0.186958</td>\n",
       "    </tr>\n",
       "    <tr>\n",
       "      <th>2</th>\n",
       "      <td>02fa521e1838</td>\n",
       "      <td>0.813042</td>\n",
       "      <td>0.186958</td>\n",
       "    </tr>\n",
       "    <tr>\n",
       "      <th>3</th>\n",
       "      <td>040e15f562a2</td>\n",
       "      <td>0.813042</td>\n",
       "      <td>0.186958</td>\n",
       "    </tr>\n",
       "    <tr>\n",
       "      <th>4</th>\n",
       "      <td>046e85c7cc7f</td>\n",
       "      <td>0.813042</td>\n",
       "      <td>0.186958</td>\n",
       "    </tr>\n",
       "  </tbody>\n",
       "</table>\n",
       "</div>"
      ],
      "text/plain": [
       "             Id   class_0   class_1\n",
       "0  00eed32682bb  0.813042  0.186958\n",
       "1  010ebe33f668  0.813042  0.186958\n",
       "2  02fa521e1838  0.813042  0.186958\n",
       "3  040e15f562a2  0.813042  0.186958\n",
       "4  046e85c7cc7f  0.813042  0.186958"
      ]
     },
     "execution_count": 28,
     "metadata": {},
     "output_type": "execute_result"
    }
   ],
   "source": [
    "submission = pd.DataFrame({'Id': Y})\n",
    "submission[['class_0', 'class_1']] = predicted_prob\n",
    "submission"
   ]
  },
  {
   "cell_type": "code",
   "execution_count": 25,
   "id": "8e99e5bc",
   "metadata": {
    "execution": {
     "iopub.execute_input": "2023-08-02T09:47:36.833766Z",
     "iopub.status.busy": "2023-08-02T09:47:36.832465Z",
     "iopub.status.idle": "2023-08-02T09:47:36.841730Z",
     "shell.execute_reply": "2023-08-02T09:47:36.840795Z"
    },
    "papermill": {
     "duration": 0.0277,
     "end_time": "2023-08-02T09:47:36.844300",
     "exception": false,
     "start_time": "2023-08-02T09:47:36.816600",
     "status": "completed"
    },
    "tags": []
   },
   "outputs": [],
   "source": [
    "submission.to_csv(\"data/submission.csv\", index=False)"
   ]
  },
  {
   "cell_type": "code",
   "execution_count": null,
   "id": "2748da34",
   "metadata": {
    "papermill": {
     "duration": 0.013777,
     "end_time": "2023-08-02T09:47:36.872394",
     "exception": false,
     "start_time": "2023-08-02T09:47:36.858617",
     "status": "completed"
    },
    "tags": []
   },
   "outputs": [],
   "source": []
  }
 ],
 "metadata": {
  "kernelspec": {
   "display_name": "Python 3 (ipykernel)",
   "language": "python",
   "name": "python3"
  },
  "language_info": {
   "codemirror_mode": {
    "name": "ipython",
    "version": 3
   },
   "file_extension": ".py",
   "mimetype": "text/x-python",
   "name": "python",
   "nbconvert_exporter": "python",
   "pygments_lexer": "ipython3",
   "version": "3.11.3"
  },
  "papermill": {
   "default_parameters": {},
   "duration": 43.16989,
   "end_time": "2023-08-02T09:47:38.211052",
   "environment_variables": {},
   "exception": null,
   "input_path": "__notebook__.ipynb",
   "output_path": "__notebook__.ipynb",
   "parameters": {},
   "start_time": "2023-08-02T09:46:55.041162",
   "version": "2.4.0"
  }
 },
 "nbformat": 4,
 "nbformat_minor": 5
}
